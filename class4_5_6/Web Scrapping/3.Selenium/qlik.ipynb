{
 "cells": [
  {
   "cell_type": "code",
   "execution_count": 17,
   "metadata": {},
   "outputs": [],
   "source": [
    "from selenium import webdriver\n",
    "from selenium.webdriver.common.keys import Keys\n",
    "from selenium.webdriver.support.ui import WebDriverWait,Select\n",
    "from selenium.webdriver.common.by import By\n",
    "from selenium.webdriver.support import expected_conditions as EC\n",
    "from bs4 import BeautifulSoup\n",
    "import time"
   ]
  },
  {
   "cell_type": "code",
   "execution_count": 19,
   "metadata": {},
   "outputs": [
    {
     "name": "stderr",
     "output_type": "stream",
     "text": [
      "C:\\Users\\Huzaifa\\AppData\\Local\\Temp\\ipykernel_19632\\1449386137.py:1: DeprecationWarning: executable_path has been deprecated, please pass in a Service object\n",
      "  driver = webdriver.Chrome('C:\\chromedriver_win32\\chromedriver.exe')\n"
     ]
    },
    {
     "name": "stdout",
     "output_type": "stream",
     "text": [
      "No more load button\n"
     ]
    }
   ],
   "source": [
    "driver = webdriver.Chrome('C:\\chromedriver_win32\\chromedriver.exe')\n",
    "driver.get('https://www.qlik.com/us/partners/find-a-partner')\n",
    "driver.maximize_window()\n",
    "select = Select(driver.find_element(By.ID,'zl_countryCode'))\n",
    "select.select_by_value(\"US\")\n",
    "time.sleep(3)\n",
    "button = driver.find_element(By.ID, \"zl_show-more-btn\")\n",
    "while True:\n",
    "    button.click()\n",
    "    WebDriverWait(driver,10).until(EC.presence_of_element_located((By.ID,\"zl_show-more-btn\")))\n",
    "    div = driver.find_element(By.ID,\"zl_show-more\")\n",
    "    if div.value_of_css_property(\"display\") == \"none\":\n",
    "        print(\"No more load button\")\n",
    "        break\n",
    "\n"
   ]
  },
  {
   "cell_type": "code",
   "execution_count": 24,
   "metadata": {},
   "outputs": [
    {
     "data": {
      "text/plain": [
       "'2700 Old Rosebud Rd Ste 240 Lexington, Kentucky 40509, United States'"
      ]
     },
     "execution_count": 24,
     "metadata": {},
     "output_type": "execute_result"
    }
   ],
   "source": [
    "soup = BeautifulSoup(driver.page_source,'html.parser')\n",
    "elements = soup.find('div',class_=\"zl_partner-tiles\")\n",
    "data = elements.find_all('div',class_=\"zl_partner-tile zl_partner-tile-hover\")\n",
    "# for i in range(0,len(data)):\n",
    "partner_name = data[0].find('div',class_=\"zl_partner-name zl_partner-name-hover\").text\n",
    "partner_address = data[0].find('div',class_=\"zl_partner-address\").get_text(separator = \" \").strip()\n",
    "partner_address"
   ]
  },
  {
   "cell_type": "code",
   "execution_count": null,
   "metadata": {},
   "outputs": [],
   "source": []
  }
 ],
 "metadata": {
  "kernelspec": {
   "display_name": "myenv",
   "language": "python",
   "name": "python3"
  },
  "language_info": {
   "codemirror_mode": {
    "name": "ipython",
    "version": 3
   },
   "file_extension": ".py",
   "mimetype": "text/x-python",
   "name": "python",
   "nbconvert_exporter": "python",
   "pygments_lexer": "ipython3",
   "version": "3.10.8"
  },
  "orig_nbformat": 4,
  "vscode": {
   "interpreter": {
    "hash": "df5b316be6b9be474e873c3d03b3de02f2477073aa97f4bd2a4fc1a05ba5dc90"
   }
  }
 },
 "nbformat": 4,
 "nbformat_minor": 2
}
