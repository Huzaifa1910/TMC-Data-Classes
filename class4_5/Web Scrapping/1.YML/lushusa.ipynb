{
 "cells": [
  {
   "cell_type": "code",
   "execution_count": 7,
   "metadata": {},
   "outputs": [
    {
     "data": {
      "text/plain": [
       "21"
      ]
     },
     "execution_count": 7,
     "metadata": {},
     "output_type": "execute_result"
    }
   ],
   "source": [
    "from selectorlib import Extractor #pip install selectorlib\n",
    "import requests \n",
    "\n",
    "# r = requests.get('https://www.lushusa.com/face/cleansers-scrubs')\n",
    "r = requests.get('https://www.lushusa.com/face/cleansers-scrubs/?cgid=cleansers-scrubs&start=0&sz=28')\n",
    "yml_text = \"\"\"\n",
    "product_data:\n",
    "    css: div.d-flex div.product-tile \n",
    "    multiple: true\n",
    "    type: Text\n",
    "    children:\n",
    "      name:\n",
    "          css: 'h3.product-tile-name'\n",
    "          xpath: null\n",
    "          multiple: true\n",
    "          type: Text\n",
    "      description:\n",
    "          css: 'div.product-tile-tagline'\n",
    "          xpath: null\n",
    "          multiple: true\n",
    "          type: Text\n",
    "      price:\n",
    "          css: 'span.tile-price'\n",
    "          xpath: null\n",
    "          multiple: false\n",
    "          type: Text\n",
    "      size:\n",
    "          css: 'span.tile-size'\n",
    "          xpath: null\n",
    "          multiple: false\n",
    "          type: Text\n",
    "\"\"\"\n",
    "e = Extractor.from_yaml_string(yml_text)\n",
    "data = e.extract(r.text)\n",
    "len(data['product_data'])"
   ]
  },
  {
   "cell_type": "code",
   "execution_count": 10,
   "metadata": {},
   "outputs": [
    {
     "name": "stdout",
     "output_type": "stream",
     "text": [
      "$23.00\n",
      "$25.00\n",
      "$23.00\n",
      "$17.00\n",
      "$14.00\n",
      "$20.00\n",
      "$17.00\n",
      "$23.00\n",
      "$16.00\n",
      "$17.00\n",
      "$15.50\n",
      "$18.00\n",
      "$16.00\n",
      "$15.50\n",
      "$14.00\n",
      "$15.50\n",
      "$14.00\n",
      "$20.00\n",
      "$14.00\n",
      "$4.00\n",
      "$14.00\n"
     ]
    }
   ],
   "source": [
    "# new_data = data['product_data']\n",
    "for d in data['product_data']:\n",
    "    print(d['price'])"
   ]
  },
  {
   "cell_type": "code",
   "execution_count": null,
   "metadata": {},
   "outputs": [],
   "source": []
  }
 ],
 "metadata": {
  "kernelspec": {
   "display_name": "myenv",
   "language": "python",
   "name": "python3"
  },
  "language_info": {
   "codemirror_mode": {
    "name": "ipython",
    "version": 3
   },
   "file_extension": ".py",
   "mimetype": "text/x-python",
   "name": "python",
   "nbconvert_exporter": "python",
   "pygments_lexer": "ipython3",
   "version": "3.10.8"
  },
  "orig_nbformat": 4,
  "vscode": {
   "interpreter": {
    "hash": "df5b316be6b9be474e873c3d03b3de02f2477073aa97f4bd2a4fc1a05ba5dc90"
   }
  }
 },
 "nbformat": 4,
 "nbformat_minor": 2
}
